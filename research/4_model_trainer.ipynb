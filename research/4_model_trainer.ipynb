{
 "cells": [
  {
   "cell_type": "code",
   "execution_count": 1,
   "id": "26e5ae45",
   "metadata": {},
   "outputs": [
    {
     "data": {
      "text/plain": [
       "'/home/eman/Desktop/DataScience_proj'"
      ]
     },
     "execution_count": 1,
     "metadata": {},
     "output_type": "execute_result"
    }
   ],
   "source": [
    "import os\n",
    "\n",
    "os.chdir('../')\n",
    "%pwd"
   ]
  },
  {
   "cell_type": "code",
   "execution_count": 2,
   "id": "f199d3c3",
   "metadata": {},
   "outputs": [],
   "source": [
    "from dataclasses import dataclass\n",
    "from pathlib import Path\n",
    "\n",
    "@dataclass\n",
    "class ModelTrainerConfig:\n",
    "    rootdir: Path\n",
    "    train_data_path: Path\n",
    "    test_data_path: Path\n",
    "    model_name: Path\n",
    "    alpha: float\n",
    "    l1_ratio: float\n",
    "    random_state: int\n",
    "    TARGET_COLUMN:str"
   ]
  },
  {
   "cell_type": "code",
   "execution_count": 3,
   "id": "3f33f579",
   "metadata": {},
   "outputs": [],
   "source": [
    "from src.Datascience_proj.utils.common import read_yaml, create_directories, save_bin\n",
    "from src.Datascience_proj.constants import *"
   ]
  },
  {
   "cell_type": "code",
   "execution_count": 4,
   "id": "c3da195e",
   "metadata": {},
   "outputs": [],
   "source": [
    "class ConfigurationManager:\n",
    "    def __init__(self, \n",
    "                config_filepath=CONFIG_FILE_PATH,\n",
    "                params_filepath = PARAMS_FILE_PATH,\n",
    "                schema_filepath = SCHEMA_FILE_PATH):\n",
    "        \n",
    "        ## read the file and assign to variable\n",
    "        self.config = read_yaml(config_filepath)\n",
    "        self.params = read_yaml(params_filepath)\n",
    "        self.schema = read_yaml(schema_filepath)\n",
    "\n",
    "        ##creating our artifacts directory\n",
    "        create_directories([self.config.artifacts_root])\n",
    "\n",
    "    def get_model_trainer_config(self)-> ModelTrainerConfig:\n",
    "        config=self.config.model_trainer\n",
    "        params=self.params.ElasticNet\n",
    "        schema= self.schema.TARGET_COLUMN\n",
    "        params2= self.params.data_params\n",
    "\n",
    "        ## creating a new directory\n",
    "        create_directories([config.root_dir])\n",
    "\n",
    "        model_trainer = ModelTrainerConfig(\n",
    "            rootdir = config.root_dir,\n",
    "            train_data_path = config.train_data_path,\n",
    "            test_data_path = config.test_data_path,\n",
    "            model_name = config.model_name,\n",
    "            alpha = params.alpha,\n",
    "            l1_ratio = params.l1_ratio,\n",
    "            random_state = params2.random_state,\n",
    "            TARGET_COLUMN = schema.name\n",
    "        )\n",
    "\n",
    "        return model_trainer"
   ]
  },
  {
   "cell_type": "code",
   "execution_count": 5,
   "id": "9514176d",
   "metadata": {},
   "outputs": [],
   "source": [
    "import pandas as pd\n",
    "from src.Datascience_proj import logger\n",
    "from sklearn.linear_model import ElasticNet\n",
    "import joblib"
   ]
  },
  {
   "cell_type": "code",
   "execution_count": 9,
   "id": "00a939aa",
   "metadata": {},
   "outputs": [],
   "source": [
    "class ModelTrainer:\n",
    "    def __init__(self, config: ModelTrainerConfig):\n",
    "        self.config= config\n",
    "\n",
    "    def train_model(self):\n",
    "        \n",
    "        ## importing the training and test dataset\n",
    "        train_data = pd.read_csv(self.config.train_data_path)\n",
    "        test_data = pd.read_csv(self.config.test_data_path)\n",
    "\n",
    "        ## splitting independent and target features\n",
    "        #train\n",
    "        train_X = train_data.drop([self.config.TARGET_COLUMN], axis=1)\n",
    "        train_y = train_data[[self.config.TARGET_COLUMN]]\n",
    "\n",
    "        #test\n",
    "        test_X = test_data.drop([self.config.TARGET_COLUMN],axis=1)\n",
    "        test_y = test_data[[self.config.TARGET_COLUMN]]\n",
    "\n",
    "        ## initializing ml model\n",
    "        lr = ElasticNet(alpha = self.config.alpha, l1_ratio= self.config.l1_ratio, \n",
    "                        random_state = self.config.random_state)\n",
    "\n",
    "        ## training the model\n",
    "        lr.fit(train_X, train_y)\n",
    "\n",
    "        ## saving the model\n",
    "        joblib.dump(lr, self.config.model_name)\n"
   ]
  },
  {
   "cell_type": "code",
   "execution_count": 11,
   "id": "35d00631",
   "metadata": {},
   "outputs": [
    {
     "name": "stdout",
     "output_type": "stream",
     "text": [
      "[2025-07-16 15:59:50,976: INFO: common: yaml file: config/config.yaml loaded successfully]\n",
      "[2025-07-16 15:59:50,984: INFO: common: yaml file: params.yaml loaded successfully]\n",
      "[2025-07-16 15:59:50,991: INFO: common: yaml file: schema.yaml loaded successfully]\n",
      "[2025-07-16 15:59:50,993: INFO: common: created directory at: artifacts]\n",
      "[2025-07-16 15:59:51,003: INFO: common: created directory at: artifacts/model_trainer]\n"
     ]
    }
   ],
   "source": [
    "config= ConfigurationManager()\n",
    "config_model = config.get_model_trainer_config()\n",
    "model_trainer = ModelTrainer(config_model)\n",
    "model_trainer.train_model()"
   ]
  },
  {
   "cell_type": "code",
   "execution_count": null,
   "id": "e05615fc",
   "metadata": {},
   "outputs": [],
   "source": []
  }
 ],
 "metadata": {
  "kernelspec": {
   "display_name": "Python 3",
   "language": "python",
   "name": "python3"
  },
  "language_info": {
   "codemirror_mode": {
    "name": "ipython",
    "version": 3
   },
   "file_extension": ".py",
   "mimetype": "text/x-python",
   "name": "python",
   "nbconvert_exporter": "python",
   "pygments_lexer": "ipython3",
   "version": "3.10.0"
  }
 },
 "nbformat": 4,
 "nbformat_minor": 5
}
