{
 "cells": [
  {
   "cell_type": "code",
   "execution_count": 3,
   "id": "a879cf32",
   "metadata": {},
   "outputs": [],
   "source": [
    "import os"
   ]
  },
  {
   "cell_type": "code",
   "execution_count": 4,
   "id": "c2c73b99",
   "metadata": {},
   "outputs": [
    {
     "data": {
      "text/plain": [
       "'/home/eman/Desktop/DataScience_proj'"
      ]
     },
     "execution_count": 4,
     "metadata": {},
     "output_type": "execute_result"
    }
   ],
   "source": [
    "os.chdir('../')\n",
    "%pwd"
   ]
  },
  {
   "cell_type": "markdown",
   "id": "4be9493b",
   "metadata": {},
   "source": [
    "Things to do:\n",
    "- feature engineering\n",
    "- Data preprocessing "
   ]
  },
  {
   "cell_type": "code",
   "execution_count": 33,
   "id": "3f5e69fa",
   "metadata": {},
   "outputs": [],
   "source": [
    "from dataclasses import dataclass\n",
    "from pathlib import Path\n",
    "\n",
    "@dataclass\n",
    "class DataTransformationConfig:\n",
    "    root_dir: Path\n",
    "    unzip_data_dir: Path\n",
    "    TRAIN_DATA: str\n",
    "    TEST_DATA: str\n",
    "    params: dict"
   ]
  },
  {
   "cell_type": "code",
   "execution_count": null,
   "id": "80e06273",
   "metadata": {},
   "outputs": [],
   "source": [
    "from src.Datascience_proj.utils.common import read_yaml, create_directories\n",
    "from src.Datascience_proj.constants import *\n",
    "\n",
    "import pandas as pd\n",
    "from sklearn.model_selection import train_test_split\n",
    "from src.Datascience_proj import logger"
   ]
  },
  {
   "cell_type": "code",
   "execution_count": 34,
   "id": "1305eb88",
   "metadata": {},
   "outputs": [],
   "source": [
    "class ConfigurationManager:\n",
    "    def __init__(self, \n",
    "                config_filepath=CONFIG_FILE_PATH,\n",
    "                params_filepath = PARAMS_FILE_PATH,\n",
    "                schema_filepath = SCHEMA_FILE_PATH):\n",
    "        \n",
    "        ## read the file and assign to variable\n",
    "        self.config = read_yaml(config_filepath)\n",
    "        self.params = read_yaml(params_filepath)\n",
    "        self.schema = read_yaml(schema_filepath)\n",
    "\n",
    "        ##creating our artifacts directory\n",
    "        create_directories([self.config.artifacts_root])\n",
    "    \n",
    "    def get_data_transformation_config(self)->DataTransformationConfig:\n",
    "        config= self.config.data_transformation\n",
    "        params = self.params.data_params\n",
    "\n",
    "        ## creating a new directory\n",
    "        create_directories([config.root_dir])\n",
    "\n",
    "        data_transformation_config = DataTransformationConfig(\n",
    "            root_dir=config.root_dir,\n",
    "            unzip_data_dir=config.unzip_data_dir,\n",
    "            TRAIN_DATA=config.TRAIN_DATA,\n",
    "            TEST_DATA=config.TEST_DATA,\n",
    "            params = params\n",
    "        )\n",
    "\n",
    "        return data_transformation_config"
   ]
  },
  {
   "cell_type": "code",
   "execution_count": null,
   "id": "691ed70e",
   "metadata": {},
   "outputs": [],
   "source": []
  },
  {
   "cell_type": "code",
   "execution_count": 40,
   "id": "97b242f6",
   "metadata": {},
   "outputs": [],
   "source": [
    "## creating the Data transformation directory\n",
    "\n",
    "class DataTransformation:\n",
    "    def __init__(self, config: DataTransformationConfig):\n",
    "        self.config= config\n",
    "\n",
    "    ## Note: you can add different data transformation techniques such as scaler, PCA, and all\n",
    "    ##You can perform all kinds of EDA in ML Cycle here before passing data to the model\n",
    "\n",
    "    # I am only adding train_test_splitting cos this data is already cleaned up\n",
    "\n",
    "    def train_test_split(self):\n",
    "\n",
    "        ## importing the dataset as a dataframe\n",
    "        data = pd.read_csv(self.config.unzip_data_dir)\n",
    "\n",
    "        ## splitting the dataset using train test split\n",
    "        train_data, test_data = train_test_split(data, test_size=self.config.params.test_ratio, \n",
    "                                                 random_state=self.config.params.random_state)\n",
    "        \n",
    "        ## saving the splitted files\n",
    "        train_data.to_csv(self.config.TRAIN_DATA, index= False)\n",
    "        test_data.to_csv(self.config.TEST_DATA, index=False)\n",
    "\n",
    "        logger.info('Splitted data into training and test datasets')\n",
    "        logger.info(train_data.shape)\n",
    "        logger.info(test_data.shape)\n",
    "\n",
    "        print(train_data.shape)\n",
    "        print(test_data.shape)\n"
   ]
  },
  {
   "cell_type": "code",
   "execution_count": 41,
   "id": "138c229e",
   "metadata": {},
   "outputs": [
    {
     "name": "stdout",
     "output_type": "stream",
     "text": [
      "[2025-07-16 09:44:09,453: INFO: common: yaml file: config/config.yaml loaded successfully]\n",
      "[2025-07-16 09:44:09,460: INFO: common: yaml file: params.yaml loaded successfully]\n",
      "[2025-07-16 09:44:09,466: INFO: common: yaml file: schema.yaml loaded successfully]\n",
      "[2025-07-16 09:44:09,470: INFO: common: created directory at: artifacts]\n",
      "[2025-07-16 09:44:09,473: INFO: common: created directory at: artifacts/data_transformation]\n"
     ]
    },
    {
     "name": "stdout",
     "output_type": "stream",
     "text": [
      "[2025-07-16 09:44:09,729: INFO: 2999293573: Splitted data into training and test datasets]\n",
      "[2025-07-16 09:44:09,732: INFO: 2999293573: (1279, 12)]\n",
      "[2025-07-16 09:44:09,736: INFO: 2999293573: (320, 12)]\n",
      "(1279, 12)\n",
      "(320, 12)\n"
     ]
    }
   ],
   "source": [
    "config = ConfigurationManager()\n",
    "data_transform=config.get_data_transformation_config()\n",
    "transform_data= DataTransformation(data_transform)\n",
    "transform_data.train_test_split()"
   ]
  },
  {
   "cell_type": "code",
   "execution_count": 37,
   "metadata": {},
   "outputs": [
    {
     "data": {
      "text/plain": [
       "DataTransformationConfig(root_dir='artifacts/data_transformation', unzip_data_dir='artifacts/data_ingestion/winequality-red.csv', TRAIN_DATA='artifacts/data_transformation/train.csv', TEST_DATA='artifacts/data_transformation/test.csv', params=ConfigBox({'test_ratio': 0.2, 'random_state': 42}))"
      ]
     },
     "execution_count": 37,
     "metadata": {},
     "output_type": "execute_result"
    }
   ],
   "source": [
    "data_transform"
   ]
  },
  {
   "cell_type": "code",
   "execution_count": 39,
   "id": "f4bb09f8",
   "metadata": {},
   "outputs": [
    {
     "data": {
      "text/plain": [
       "0.2"
      ]
     },
     "execution_count": 39,
     "metadata": {},
     "output_type": "execute_result"
    }
   ],
   "source": [
    "data_transform.params.test_ratio"
   ]
  },
  {
   "cell_type": "code",
   "execution_count": null,
   "id": "6ba6136c",
   "metadata": {},
   "outputs": [],
   "source": []
  }
 ],
 "metadata": {
  "kernelspec": {
   "display_name": "Python 3",
   "language": "python",
   "name": "python3"
  },
  "language_info": {
   "codemirror_mode": {
    "name": "ipython",
    "version": 3
   },
   "file_extension": ".py",
   "mimetype": "text/x-python",
   "name": "python",
   "nbconvert_exporter": "python",
   "pygments_lexer": "ipython3",
   "version": "3.12.0"
  }
 },
 "nbformat": 4,
 "nbformat_minor": 5
}
