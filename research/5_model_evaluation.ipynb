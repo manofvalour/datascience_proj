{
 "cells": [
  {
   "cell_type": "code",
   "execution_count": 1,
   "id": "a3636d07",
   "metadata": {},
   "outputs": [],
   "source": [
    "import os\n",
    "os.chdir(\"../\")"
   ]
  },
  {
   "cell_type": "code",
   "execution_count": 2,
   "id": "f92adda9",
   "metadata": {},
   "outputs": [
    {
     "data": {
      "text/plain": [
       "'/home/eman/Desktop/DataScience_proj'"
      ]
     },
     "execution_count": 2,
     "metadata": {},
     "output_type": "execute_result"
    }
   ],
   "source": [
    "%pwd"
   ]
  },
  {
   "cell_type": "code",
   "execution_count": 4,
   "id": "b97c991d",
   "metadata": {},
   "outputs": [],
   "source": [
    "import os"
   ]
  },
  {
   "cell_type": "code",
   "execution_count": null,
   "id": "1d8d5b79",
   "metadata": {},
   "outputs": [],
   "source": [
    "os.environ[MODEL_TRACKING_URI]"
   ]
  },
  {
   "cell_type": "code",
   "execution_count": 7,
   "id": "4fb65e15",
   "metadata": {},
   "outputs": [],
   "source": [
    "from dataclasses import dataclass\n",
    "from pathlib import Path\n",
    "@dataclass\n",
    "class ModelEvaluationConfig:\n",
    "    root_dir: Path\n",
    "    test_data_path: Path\n",
    "    model_path: Path\n",
    "    all_params: dict\n",
    "    metric_filename: Path\n",
    "    TARGET_COLUMN: str\n",
    "    #mlflow_uri: str\n"
   ]
  },
  {
   "cell_type": "code",
   "execution_count": 8,
   "id": "f26fc092",
   "metadata": {},
   "outputs": [],
   "source": [
    "from src.Datascience_proj.utils.common import read_yaml, create_directories, save_json\n",
    "from src.Datascience_proj.constants import *"
   ]
  },
  {
   "cell_type": "code",
   "execution_count": 10,
   "id": "e0e5f37d",
   "metadata": {},
   "outputs": [],
   "source": [
    "class ConfigurationManager:\n",
    "    def __init__(self, \n",
    "                config_filepath=CONFIG_FILE_PATH,\n",
    "                params_filepath = PARAMS_FILE_PATH,\n",
    "                schema_filepath = SCHEMA_FILE_PATH):\n",
    "        \n",
    "        ## read the file and assign to variable\n",
    "        self.config = read_yaml(config_filepath)\n",
    "        self.params = read_yaml(params_filepath)\n",
    "        self.schema = read_yaml(schema_filepath)\n",
    "\n",
    "        ##creating our artifacts directory\n",
    "        create_directories([self.config.artifacts_root])\n",
    "\n",
    "    def get_model_evaluation_config(self)-> ModelEvaluationConfig:\n",
    "        config=self.config.model_evaluation\n",
    "        params= self.params.ElasticNet\n",
    "        schema= self.schema.TARGET_COLUMN\n",
    "\n",
    "        create_directories([config.root_dir])\n",
    "\n",
    "        model_evaluation_config= ModelEvaluationConfig(\n",
    "            root_dir = config.root_dir,\n",
    "            test_data_path = config.test_data_path,\n",
    "            model_path = config.model_path,\n",
    "            all_params = params,\n",
    "            metric_filename = config.metric_filename,\n",
    "            TARGET_COLUMN = schema.name\n",
    "        )\n",
    "\n",
    "        return model_evaluation_config"
   ]
  },
  {
   "cell_type": "code",
   "execution_count": 11,
   "id": "92cb89d5",
   "metadata": {},
   "outputs": [],
   "source": [
    "## importing the needed libraries\n",
    "import os\n",
    "import pandas as pd\n",
    "from sklearn.metrics import mean_squared_error, mean_absolute_error, r2_score\n",
    "from urllib.parse import urlparse\n",
    "import mlflow\n",
    "import mlflow.sklearn\n",
    "import numpy as np\n",
    "import joblib"
   ]
  },
  {
   "cell_type": "code",
   "execution_count": 18,
   "id": "53fc07e1",
   "metadata": {},
   "outputs": [],
   "source": [
    "class ModelEvaluation:\n",
    "    def __init__(self, config: ModelEvaluationConfig):\n",
    "        self.config = config\n",
    "\n",
    "    def eval_metrics(self, actual, pred):\n",
    "        rmse = np.sqrt(mean_squared_error(actual, pred))\n",
    "        mae = mean_absolute_error(actual, pred)\n",
    "        r2 = r2_score(actual, pred)\n",
    "\n",
    "        return rmse, mae, r2\n",
    "\n",
    "    def log_into_mlflow(self):\n",
    "\n",
    "        test_data = pd.read_csv(self.config.test_data_path)\n",
    "        model = joblib.load(self.config.model_path)\n",
    "\n",
    "        test_X = test_data.drop([self.config.TARGET_COLUMN], axis =1)\n",
    "        test_y = test_data[self.config.TARGET_COLUMN]\n",
    "\n",
    "        #mlflow.set_registry_uri(self.config.mlflow_uri)\n",
    "        #tracking_url_type_store = urlparse(mlflow.get_tracking_uri()).scheme\n",
    "\n",
    "        with mlflow.start_run():\n",
    "            predicted_qualities = model.predict(test_X)\n",
    "\n",
    "            (rmse,mae, r2) = self.eval_metrics(test_y, predicted_qualities)\n",
    "\n",
    "            ## save the metrics as local\n",
    "            scores ={'rmse': rmse, 'mae': mae, 'r2': r2}\n",
    "            save_json(path=Path(self.config.metric_filename), data=scores)\n",
    "\n",
    "            mlflow.log_params(self.config.all_params)\n",
    "            mlflow.log_metric(\"rmse\", rmse)\n",
    "            mlflow.log_metric(\"r2\", r2)\n",
    "            mlflow.log_metric('mae', mae)\n",
    "\n",
    "            # Model Registry does not work with file store\n",
    "            #if tracking_uri_type_store != 'file':\n",
    "\n",
    "                # Register te model\n",
    "                # Ther are other ways to use the Model Registry, wich depends on the use case,\n",
    "                # please refer to the doc for more information:\n",
    "                # https://mlflow.org/docs/latest/model-registry.html#api-workflow\n",
    "               # mlflow.sklearn.log_model(model, 'model', registered_model_name = \"ElasticNetModel\")\n",
    "            \n",
    "            #else:\n",
    "            mlflow.sklearn.log_model(model, 'model')"
   ]
  },
  {
   "cell_type": "code",
   "execution_count": 19,
   "id": "6eeb06ae",
   "metadata": {},
   "outputs": [
    {
     "name": "stdout",
     "output_type": "stream",
     "text": [
      "[2025-07-17 07:07:04,183: INFO: common: yaml file: config/config.yaml loaded successfully]\n",
      "[2025-07-17 07:07:04,187: INFO: common: yaml file: params.yaml loaded successfully]\n",
      "[2025-07-17 07:07:04,192: INFO: common: yaml file: schema.yaml loaded successfully]\n",
      "[2025-07-17 07:07:04,194: INFO: common: created directory at: artifacts]\n",
      "[2025-07-17 07:07:04,195: INFO: common: created directory at: artifacts/model_evaluation]\n"
     ]
    },
    {
     "name": "stdout",
     "output_type": "stream",
     "text": [
      "[2025-07-17 07:07:04,252: INFO: common: json file saved at: artifacts/model_evaluation/metrics.json]\n"
     ]
    },
    {
     "name": "stderr",
     "output_type": "stream",
     "text": [
      "\u001b[31m2025/07/17 07:07:25 WARNING mlflow.models.model: Model logged without a signature and input example. Please set `input_example` parameter when logging the model to auto infer the model signature.\u001b[0m\n"
     ]
    }
   ],
   "source": [
    "try:\n",
    "    config = ConfigurationManager()\n",
    "    model_evaluation_config = config.get_model_evaluation_config()\n",
    "    model_evaluation = ModelEvaluation(config=model_evaluation_config)\n",
    "    model_evaluation.log_into_mlflow()\n",
    "\n",
    "except Exception as e:\n",
    "    raise e"
   ]
  },
  {
   "cell_type": "code",
   "execution_count": null,
   "id": "0607eee0",
   "metadata": {},
   "outputs": [],
   "source": []
  }
 ],
 "metadata": {
  "kernelspec": {
   "display_name": "Python 3",
   "language": "python",
   "name": "python3"
  },
  "language_info": {
   "codemirror_mode": {
    "name": "ipython",
    "version": 3
   },
   "file_extension": ".py",
   "mimetype": "text/x-python",
   "name": "python",
   "nbconvert_exporter": "python",
   "pygments_lexer": "ipython3",
   "version": "3.10.0"
  }
 },
 "nbformat": 4,
 "nbformat_minor": 5
}
